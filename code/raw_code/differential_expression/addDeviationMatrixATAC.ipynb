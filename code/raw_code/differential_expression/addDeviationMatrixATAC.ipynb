{
 "cells": [
  {
   "cell_type": "code",
   "execution_count": 1,
   "id": "b7addda1",
   "metadata": {},
   "outputs": [
    {
     "name": "stderr",
     "output_type": "stream",
     "text": [
      "Loading required package: BSgenome\n",
      "\n",
      "Loading required package: Biostrings\n",
      "\n",
      "Loading required package: XVector\n",
      "\n",
      "\n",
      "Attaching package: ‘XVector’\n",
      "\n",
      "\n",
      "The following object is masked from ‘package:plyr’:\n",
      "\n",
      "    compact\n",
      "\n",
      "\n",
      "\n",
      "Attaching package: ‘Biostrings’\n",
      "\n",
      "\n",
      "The following object is masked from ‘package:grid’:\n",
      "\n",
      "    pattern\n",
      "\n",
      "\n",
      "The following object is masked from ‘package:base’:\n",
      "\n",
      "    strsplit\n",
      "\n",
      "\n",
      "Loading required package: rtracklayer\n",
      "\n"
     ]
    }
   ],
   "source": [
    "suppressMessages(library(ArchR))\n",
    "library(BSgenome.Rnorvegicus.UCSC.rn7)\n",
    "ss <- function(x, pattern, slot = 1, ...) { sapply(strsplit(x = x, split = pattern, ...), '[', slot) }\n",
    "options(stringsAsFactors = F)\n",
    "options(repr.plot.width=11, repr.plot.height=8.5)"
   ]
  },
  {
   "cell_type": "code",
   "execution_count": 2,
   "id": "9d9536d5",
   "metadata": {},
   "outputs": [
    {
     "name": "stderr",
     "output_type": "stream",
     "text": [
      "Setting default number of Parallel threads to 12.\n",
      "\n"
     ]
    }
   ],
   "source": [
    "##################################\n",
    "### set Arrow File parameters ####\n",
    "addArchRThreads(threads = 12)\n",
    "\n",
    "\n"
   ]
  },
  {
   "cell_type": "code",
   "execution_count": 3,
   "id": "4de30a51",
   "metadata": {},
   "outputs": [
    {
     "name": "stderr",
     "output_type": "stream",
     "text": [
      "Successfully loaded ArchRProject!\n",
      "\n"
     ]
    }
   ],
   "source": [
    "PROJDIR='../../../data/tidy_data/ArchRProjects'\n",
    "proj = loadArchRProject(file.path(PROJDIR,'Rat_Transgen_NAc_scATAC_clusterRat'), showLogo = FALSE)"
   ]
  },
  {
   "cell_type": "code",
   "execution_count": 4,
   "id": "1e0836aa",
   "metadata": {},
   "outputs": [
    {
     "name": "stderr",
     "output_type": "stream",
     "text": [
      "ArchR logging to : ArchRLogs/ArchR-addMotifAnnotations-2462725fe6778-Date-2023-02-23_Time-21-59-34.log\n",
      "If there is an issue, please report to github with logFile!\n",
      "\n",
      "2023-02-23 21:59:47 : Gettting Motif Set, Species : mus musculus, 0.002 mins elapsed.\n",
      "\n",
      "Using version 2 motifs!\n",
      "\n",
      "2023-02-23 21:59:50 : Finding Motif Positions with motifmatchr!, 0.04 mins elapsed.\n",
      "\n",
      "2023-02-23 22:07:11 : All Motifs Overlap at least 1 peak!, 7.394 mins elapsed.\n",
      "\n",
      "2023-02-23 22:07:12 : Creating Motif Overlap Matrix, 7.41 mins elapsed.\n",
      "\n",
      "2023-02-23 22:07:19 : Finished Getting Motif Info!, 7.521 mins elapsed.\n",
      "\n",
      "ArchR logging successful to : ArchRLogs/ArchR-addMotifAnnotations-2462725fe6778-Date-2023-02-23_Time-21-59-34.log\n",
      "\n"
     ]
    }
   ],
   "source": [
    "proj <- addMotifAnnotations(ArchRProj = proj, motifSet = \"cisbp\", name = \"Motif\", species = \"mus musculus\")"
   ]
  },
  {
   "cell_type": "code",
   "execution_count": 5,
   "id": "c3cacc1e",
   "metadata": {},
   "outputs": [
    {
     "name": "stderr",
     "output_type": "stream",
     "text": [
      "Identifying Background Peaks!\n",
      "\n"
     ]
    }
   ],
   "source": [
    "proj <- addBgdPeaks(proj)"
   ]
  },
  {
   "cell_type": "code",
   "execution_count": 6,
   "id": "d4dc738a",
   "metadata": {},
   "outputs": [
    {
     "name": "stderr",
     "output_type": "stream",
     "text": [
      "Using Previous Background Peaks!\n",
      "\n",
      "ArchR logging to : ArchRLogs/ArchR-addDeviationsMatrix-2462734c59399-Date-2023-02-23_Time-22-12-14.log\n",
      "If there is an issue, please report to github with logFile!\n",
      "\n"
     ]
    },
    {
     "name": "stdout",
     "output_type": "stream",
     "text": [
      "NULL\n"
     ]
    },
    {
     "name": "stderr",
     "output_type": "stream",
     "text": [
      "as(<lgCMatrix>, \"dgCMatrix\") is deprecated since Matrix 1.5-0; do as(., \"dMatrix\") instead\n",
      "\n",
      "2023-02-23 22:12:33 : Batch Execution w/ safelapply!, 0 mins elapsed.\n",
      "\n",
      "###########\n",
      "2023-02-23 23:37:37 : Completed Computing Deviations!, 85.381 mins elapsed.\n",
      "###########\n",
      "\n",
      "ArchR logging successful to : ArchRLogs/ArchR-addDeviationsMatrix-2462734c59399-Date-2023-02-23_Time-22-12-14.log\n",
      "\n"
     ]
    }
   ],
   "source": [
    "proj <- addDeviationsMatrix(\n",
    "  ArchRProj = proj, \n",
    "  peakAnnotation = \"Motif\",\n",
    "  force = TRUE\n",
    ")\n"
   ]
  },
  {
   "cell_type": "code",
   "execution_count": 7,
   "id": "2e6628d7",
   "metadata": {},
   "outputs": [
    {
     "name": "stderr",
     "output_type": "stream",
     "text": [
      "Saving ArchRProject...\n",
      "\n",
      "Loading ArchRProject...\n",
      "\n",
      "Successfully loaded ArchRProject!\n",
      "\n",
      "\n",
      "                                                   / |\n",
      "                                                 /    \\\n",
      "            .                                  /      |.\n",
      "            \\\\\\                              /        |.\n",
      "              \\\\\\                          /           `|.\n",
      "                \\\\\\                      /              |.\n",
      "                  \\                    /                |\\\n",
      "                  \\\\#####\\           /                  ||\n",
      "                ==###########>      /                   ||\n",
      "                 \\\\##==......\\    /                     ||\n",
      "            ______ =       =|__ /__                     ||      \\\\\\\n",
      "        ,--' ,----`-,__ ___/'  --,-`-===================##========>\n",
      "       \\               '        ##_______ _____ ,--,__,=##,__   ///\n",
      "        ,    __==    ___,-,__,--'#'  ==='      `-'    | ##,-/\n",
      "        -,____,---'       \\\\####\\\\________________,--\\\\_##,/\n",
      "           ___      .______        ______  __    __  .______      \n",
      "          /   \\     |   _  \\      /      ||  |  |  | |   _  \\     \n",
      "         /  ^  \\    |  |_)  |    |  ,----'|  |__|  | |  |_)  |    \n",
      "        /  /_\\  \\   |      /     |  |     |   __   | |      /     \n",
      "       /  _____  \\  |  |\\  \\\\___ |  `----.|  |  |  | |  |\\  \\\\___.\n",
      "      /__/     \\__\\ | _| `._____| \\______||__|  |__| | _| `._____|\n",
      "    \n",
      "\n"
     ]
    }
   ],
   "source": [
    "proj = saveArchRProject(ArchRProj = proj)"
   ]
  },
  {
   "cell_type": "code",
   "execution_count": null,
   "id": "e63c4708",
   "metadata": {},
   "outputs": [],
   "source": []
  }
 ],
 "metadata": {
  "kernelspec": {
   "display_name": "R",
   "language": "R",
   "name": "ir"
  },
  "language_info": {
   "codemirror_mode": "r",
   "file_extension": ".r",
   "mimetype": "text/x-r-source",
   "name": "R",
   "pygments_lexer": "r",
   "version": "4.1.3"
  }
 },
 "nbformat": 4,
 "nbformat_minor": 5
}
