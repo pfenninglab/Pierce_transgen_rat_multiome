{
 "cells": [
  {
   "cell_type": "code",
   "execution_count": 7,
   "id": "cad5dae0",
   "metadata": {},
   "outputs": [],
   "source": [
    "suppressMessages(library(ArchR))\n",
    "#library(SummarizedExperiment)\n",
    "library(dplyr)\n",
    "ss <- function(x, pattern, slot = 1, ...) { sapply(strsplit(x = x, split = pattern, ...), '[', slot) }\n",
    "options(stringsAsFactors = F)\n",
    "options(repr.plot.width=11, repr.plot.height=8.5)"
   ]
  },
  {
   "cell_type": "code",
   "execution_count": 8,
   "id": "9231d1c4",
   "metadata": {},
   "outputs": [
    {
     "name": "stderr",
     "output_type": "stream",
     "text": [
      "Successfully loaded ArchRProject!\n",
      "\n"
     ]
    }
   ],
   "source": [
    "PROJDIR='/projects/pfenninggroup/singleCell/Pierce_transgen_rat_multiome/data/tidy_data/ArchRProjects'\n",
    "projM = loadArchRProject(file.path(PROJDIR,'Rat_Transgen_NAc_multiome'), showLogo = FALSE)"
   ]
  },
  {
   "cell_type": "code",
   "execution_count": 12,
   "id": "0ea46084",
   "metadata": {},
   "outputs": [
    {
     "data": {
      "text/plain": [
       "$Cocaine_v_Saline\n",
       "class: SummarizedExperiment \n",
       "dim: 466022 1 \n",
       "metadata(2): MatchInfo Params\n",
       "assays(7): Log2FC Mean ... AUC MeanBGD\n",
       "rownames(466022): 1 2 ... 466021 466022\n",
       "rowData names(4): seqnames idx start end\n",
       "colnames(1): Cocaine\n",
       "colData names(0):\n",
       "\n",
       "$Meth_v_Saline\n",
       "class: SummarizedExperiment \n",
       "dim: 466022 1 \n",
       "metadata(2): MatchInfo Params\n",
       "assays(7): Log2FC Mean ... AUC MeanBGD\n",
       "rownames(466022): 1 2 ... 466021 466022\n",
       "rowData names(4): seqnames idx start end\n",
       "colnames(1): Methamphetamine\n",
       "colData names(0):\n",
       "\n",
       "$Meth_v_Cocaine\n",
       "class: SummarizedExperiment \n",
       "dim: 466022 1 \n",
       "metadata(2): MatchInfo Params\n",
       "assays(7): Log2FC Mean ... AUC MeanBGD\n",
       "rownames(466022): 1 2 ... 466021 466022\n",
       "rowData names(4): seqnames idx start end\n",
       "colnames(1): Methamphetamine\n",
       "colData names(0):\n"
      ]
     },
     "metadata": {},
     "output_type": "display_data"
    }
   ],
   "source": [
    "d1msn_peak <- readRDS(\"/projects/pfenninggroup/singleCell/Pierce_transgen_rat_multiome/data/differential_Peaks_data/differential_PeakMatrix.D1.MSN.rds\")\n",
    "d1msn_peak"
   ]
  },
  {
   "cell_type": "code",
   "execution_count": 13,
   "id": "ed88e73f",
   "metadata": {},
   "outputs": [
    {
     "data": {
      "text/plain": [
       "DataFrame with 465465 rows and 7 columns\n",
       "       seqnames     idx     start       end     Log2FC       FDR     MeanDiff\n",
       "          <Rle> <array>   <array>   <array>  <numeric> <numeric>    <numeric>\n",
       "121743    chr13    8375  70583854  70584354   -4.21286  0.833189   -0.0478360\n",
       "22         chr1      22   2096144   2096644   -2.12793  0.866970   -0.0442628\n",
       "33         chr1      33   2136812   2137312   -2.06990  0.866970   -0.0104941\n",
       "57         chr1      57   2246864   2247364    1.17918  0.866970    0.0264666\n",
       "88         chr1      88   2369719   2370219    2.20519  0.866970    0.0238894\n",
       "...         ...     ...       ...       ...        ...       ...          ...\n",
       "465995     chrX    3739 152095641 152096141  0.9099736         1  0.008649649\n",
       "466000     chrX    3744 152116602 152117102  0.0901463         1  0.000478976\n",
       "466001     chrX    3745 152120243 152120743  1.1823412         1  0.017286818\n",
       "466003     chrX    3747 152126936 152127436 -0.1628754         1 -0.000968888\n",
       "466007     chrX    3751 152153865 152154365 -0.3290958         1 -0.011726106"
      ]
     },
     "metadata": {},
     "output_type": "display_data"
    }
   ],
   "source": [
    "d1msn1 <- d1msn_peak[1]\n",
    "d1msn1 <- getMarkers(d1msn_peak[[1]], cutOff = \"FDR <= 1\")\n",
    "idx_name <-names(d1msn1)\n",
    "d1msn1[[idx_name]]"
   ]
  },
  {
   "cell_type": "code",
   "execution_count": 14,
   "id": "91f85498",
   "metadata": {},
   "outputs": [
    {
     "data": {
      "text/plain": [
       "DataFrame with 465490 rows and 7 columns\n",
       "       seqnames     idx     start       end     Log2FC       FDR     MeanDiff\n",
       "          <Rle> <array>   <array>   <array>  <numeric> <numeric>    <numeric>\n",
       "5          chr1       5    595781    596281   -1.38711  0.861633  -0.00613722\n",
       "12         chr1      12   2047215   2047715    1.41131  0.861633   0.02101618\n",
       "16         chr1      16   2079343   2079843    1.15603  0.861633   0.05788896\n",
       "45         chr1      45   2196759   2197259   -2.88671  0.861633  -0.01884852\n",
       "49         chr1      49   2202981   2203481    1.74354  0.861633   0.02598166\n",
       "...         ...     ...       ...       ...        ...       ...          ...\n",
       "465930     chrX    3674 151560530 151561030 -0.2241582         1 -0.008911509\n",
       "465956     chrX    3700 151712289 151712789 -0.0134141         1 -0.000607541\n",
       "465975     chrX    3719 152032795 152033295 -0.2355061         1 -0.001283131\n",
       "465982     chrX    3726 152064613 152065113 -0.5001043         1 -0.004277383\n",
       "466015     chrX    3759 152216582 152217082 -0.6010724         1 -0.001990540"
      ]
     },
     "metadata": {},
     "output_type": "display_data"
    }
   ],
   "source": [
    "d1msn2 <- d1msn_peak[2]\n",
    "d1msn2 <- getMarkers(d1msn_peak[[2]], cutOff = \"FDR <= 1\")\n",
    "idx_name <-names(d1msn2)\n",
    "d1msn2[[idx_name]]"
   ]
  },
  {
   "cell_type": "code",
   "execution_count": 3,
   "id": "27be9f91",
   "metadata": {},
   "outputs": [
    {
     "data": {
      "text/plain": [
       "$Cocaine_v_Saline\n",
       "class: SummarizedExperiment \n",
       "dim: 466022 1 \n",
       "metadata(2): MatchInfo Params\n",
       "assays(7): Log2FC Mean ... AUC MeanBGD\n",
       "rownames(466022): 1 2 ... 466021 466022\n",
       "rowData names(4): seqnames idx start end\n",
       "colnames(1): Cocaine\n",
       "colData names(0):\n",
       "\n",
       "$Meth_v_Saline\n",
       "class: SummarizedExperiment \n",
       "dim: 466022 1 \n",
       "metadata(2): MatchInfo Params\n",
       "assays(7): Log2FC Mean ... AUC MeanBGD\n",
       "rownames(466022): 1 2 ... 466021 466022\n",
       "rowData names(4): seqnames idx start end\n",
       "colnames(1): Methamphetamine\n",
       "colData names(0):\n",
       "\n",
       "$Meth_v_Cocaine\n",
       "class: SummarizedExperiment \n",
       "dim: 466022 1 \n",
       "metadata(2): MatchInfo Params\n",
       "assays(7): Log2FC Mean ... AUC MeanBGD\n",
       "rownames(466022): 1 2 ... 466021 466022\n",
       "rowData names(4): seqnames idx start end\n",
       "colnames(1): Methamphetamine\n",
       "colData names(0):\n"
      ]
     },
     "metadata": {},
     "output_type": "display_data"
    }
   ],
   "source": [
    "astro_peak <- readRDS(\"/projects/pfenninggroup/singleCell/Pierce_transgen_rat_multiome/data/differential_Peaks_data/differential_PeakMatrix.Astrocytes.rds\")\n",
    "astro_peak"
   ]
  },
  {
   "cell_type": "code",
   "execution_count": 4,
   "id": "9486abed",
   "metadata": {},
   "outputs": [
    {
     "data": {
      "text/plain": [
       "class: SummarizedExperiment \n",
       "dim: 466022 1 \n",
       "metadata(2): MatchInfo Params\n",
       "assays(7): Log2FC Mean ... AUC MeanBGD\n",
       "rownames(466022): 1 2 ... 466021 466022\n",
       "rowData names(4): seqnames idx start end\n",
       "colnames(1): Cocaine\n",
       "colData names(0):"
      ]
     },
     "metadata": {},
     "output_type": "display_data"
    }
   ],
   "source": [
    "astro1 <- astro_peak[1]\n",
    "astro1$Cocaine"
   ]
  },
  {
   "cell_type": "code",
   "execution_count": 7,
   "id": "3beff8b8",
   "metadata": {},
   "outputs": [
    {
     "data": {
      "text/plain": [
       "DataFrame with 339361 rows and 7 columns\n",
       "       seqnames     idx     start       end     Log2FC       FDR    MeanDiff\n",
       "          <Rle> <array>   <array>   <array>  <numeric> <numeric>   <numeric>\n",
       "2          chr1       2    577755    578255   -2.29508  0.520941  -0.0275197\n",
       "4          chr1       4    595207    595707    1.35934  0.520941   0.0110259\n",
       "5          chr1       5    595781    596281    1.91626  0.520941   0.0195383\n",
       "6          chr1       6    660470    660970    2.66169  0.520941   0.0375193\n",
       "9          chr1       9   1439350   1439850    2.31799  0.520941   0.0280730\n",
       "...         ...     ...       ...       ...        ...       ...         ...\n",
       "465979     chrX    3723 152054216 152054716 -0.0336645         1 -0.00218892\n",
       "465995     chrX    3739 152095641 152096141 -1.1286275         1 -0.03517902\n",
       "466001     chrX    3745 152120243 152120743  0.6487486         1  0.01540751\n",
       "466003     chrX    3747 152126936 152127436  0.1923749         1  0.00638007\n",
       "466010     chrX    3754 152158391 152158891 -0.0556990         1 -0.00525990"
      ]
     },
     "metadata": {},
     "output_type": "display_data"
    }
   ],
   "source": [
    "astro1 <- getMarkers(astro_peak[[1]], cutOff = \"FDR <= 1\")\n",
    "idx_name <-names(astro1)\n",
    "astro1[[idx_name]]"
   ]
  },
  {
   "cell_type": "code",
   "execution_count": 8,
   "id": "9bb1810c",
   "metadata": {},
   "outputs": [
    {
     "data": {
      "text/plain": [
       "DataFrame with 339361 rows and 7 columns\n",
       "       seqnames     idx     start       end     Log2FC       FDR    MeanDiff\n",
       "          <Rle> <array>   <array>   <array>  <numeric> <numeric>   <numeric>\n",
       "2          chr1       2    577755    578255   -2.29508  0.520941  -0.0275197\n",
       "4          chr1       4    595207    595707    1.35934  0.520941   0.0110259\n",
       "5          chr1       5    595781    596281    1.91626  0.520941   0.0195383\n",
       "6          chr1       6    660470    660970    2.66169  0.520941   0.0375193\n",
       "9          chr1       9   1439350   1439850    2.31799  0.520941   0.0280730\n",
       "...         ...     ...       ...       ...        ...       ...         ...\n",
       "465979     chrX    3723 152054216 152054716 -0.0336645         1 -0.00218892\n",
       "465995     chrX    3739 152095641 152096141 -1.1286275         1 -0.03517902\n",
       "466001     chrX    3745 152120243 152120743  0.6487486         1  0.01540751\n",
       "466003     chrX    3747 152126936 152127436  0.1923749         1  0.00638007\n",
       "466010     chrX    3754 152158391 152158891 -0.0556990         1 -0.00525990"
      ]
     },
     "metadata": {},
     "output_type": "display_data"
    }
   ],
   "source": [
    "astro_fdr <- getMarkers(astro_peak[[1]], cutOff = \"FDR <= .1\")\n",
    "idx_name <-names(astro_fdr)\n",
    "astro_fdr[[idx_name]]"
   ]
  },
  {
   "cell_type": "code",
   "execution_count": 9,
   "id": "84c0dc6f",
   "metadata": {},
   "outputs": [
    {
     "data": {
      "text/html": [
       "<table class=\"dataframe\">\n",
       "<caption>A data.frame: 6 × 9</caption>\n",
       "<thead>\n",
       "\t<tr><th></th><th scope=col>seqnames</th><th scope=col>idx</th><th scope=col>start</th><th scope=col>end</th><th scope=col>Log2FC</th><th scope=col>FDR</th><th scope=col>MeanDiff</th><th scope=col>CellType</th><th scope=col>Condition</th></tr>\n",
       "\t<tr><th></th><th scope=col>&lt;chr&gt;</th><th scope=col>&lt;int&gt;</th><th scope=col>&lt;int&gt;</th><th scope=col>&lt;int&gt;</th><th scope=col>&lt;dbl&gt;</th><th scope=col>&lt;dbl&gt;</th><th scope=col>&lt;dbl&gt;</th><th scope=col>&lt;chr&gt;</th><th scope=col>&lt;chr&gt;</th></tr>\n",
       "</thead>\n",
       "<tbody>\n",
       "\t<tr><th scope=row>2...1</th><td>chr1</td><td> 2</td><td> 577755</td><td> 578255</td><td>-2.295078</td><td>0.5209411</td><td>-0.027519748</td><td>Astrocytes</td><td>Cocaine_v_Saline</td></tr>\n",
       "\t<tr><th scope=row>4...2</th><td>chr1</td><td> 4</td><td> 595207</td><td> 595707</td><td> 1.359338</td><td>0.5209411</td><td> 0.011025874</td><td>Astrocytes</td><td>Cocaine_v_Saline</td></tr>\n",
       "\t<tr><th scope=row>5...3</th><td>chr1</td><td> 5</td><td> 595781</td><td> 596281</td><td> 1.916263</td><td>0.5209411</td><td> 0.019538322</td><td>Astrocytes</td><td>Cocaine_v_Saline</td></tr>\n",
       "\t<tr><th scope=row>6...4</th><td>chr1</td><td> 6</td><td> 660470</td><td> 660970</td><td> 2.661691</td><td>0.5209411</td><td> 0.037519324</td><td>Astrocytes</td><td>Cocaine_v_Saline</td></tr>\n",
       "\t<tr><th scope=row>9...5</th><td>chr1</td><td> 9</td><td>1439350</td><td>1439850</td><td> 2.317988</td><td>0.5209411</td><td> 0.028072969</td><td>Astrocytes</td><td>Cocaine_v_Saline</td></tr>\n",
       "\t<tr><th scope=row>10...6</th><td>chr1</td><td>10</td><td>1481809</td><td>1482309</td><td> 1.094580</td><td>0.5209411</td><td> 0.007996543</td><td>Astrocytes</td><td>Cocaine_v_Saline</td></tr>\n",
       "</tbody>\n",
       "</table>\n"
      ],
      "text/latex": [
       "A data.frame: 6 × 9\n",
       "\\begin{tabular}{r|lllllllll}\n",
       "  & seqnames & idx & start & end & Log2FC & FDR & MeanDiff & CellType & Condition\\\\\n",
       "  & <chr> & <int> & <int> & <int> & <dbl> & <dbl> & <dbl> & <chr> & <chr>\\\\\n",
       "\\hline\n",
       "\t2...1 & chr1 &  2 &  577755 &  578255 & -2.295078 & 0.5209411 & -0.027519748 & Astrocytes & Cocaine\\_v\\_Saline\\\\\n",
       "\t4...2 & chr1 &  4 &  595207 &  595707 &  1.359338 & 0.5209411 &  0.011025874 & Astrocytes & Cocaine\\_v\\_Saline\\\\\n",
       "\t5...3 & chr1 &  5 &  595781 &  596281 &  1.916263 & 0.5209411 &  0.019538322 & Astrocytes & Cocaine\\_v\\_Saline\\\\\n",
       "\t6...4 & chr1 &  6 &  660470 &  660970 &  2.661691 & 0.5209411 &  0.037519324 & Astrocytes & Cocaine\\_v\\_Saline\\\\\n",
       "\t9...5 & chr1 &  9 & 1439350 & 1439850 &  2.317988 & 0.5209411 &  0.028072969 & Astrocytes & Cocaine\\_v\\_Saline\\\\\n",
       "\t10...6 & chr1 & 10 & 1481809 & 1482309 &  1.094580 & 0.5209411 &  0.007996543 & Astrocytes & Cocaine\\_v\\_Saline\\\\\n",
       "\\end{tabular}\n"
      ],
      "text/markdown": [
       "\n",
       "A data.frame: 6 × 9\n",
       "\n",
       "| <!--/--> | seqnames &lt;chr&gt; | idx &lt;int&gt; | start &lt;int&gt; | end &lt;int&gt; | Log2FC &lt;dbl&gt; | FDR &lt;dbl&gt; | MeanDiff &lt;dbl&gt; | CellType &lt;chr&gt; | Condition &lt;chr&gt; |\n",
       "|---|---|---|---|---|---|---|---|---|---|\n",
       "| 2...1 | chr1 |  2 |  577755 |  578255 | -2.295078 | 0.5209411 | -0.027519748 | Astrocytes | Cocaine_v_Saline |\n",
       "| 4...2 | chr1 |  4 |  595207 |  595707 |  1.359338 | 0.5209411 |  0.011025874 | Astrocytes | Cocaine_v_Saline |\n",
       "| 5...3 | chr1 |  5 |  595781 |  596281 |  1.916263 | 0.5209411 |  0.019538322 | Astrocytes | Cocaine_v_Saline |\n",
       "| 6...4 | chr1 |  6 |  660470 |  660970 |  2.661691 | 0.5209411 |  0.037519324 | Astrocytes | Cocaine_v_Saline |\n",
       "| 9...5 | chr1 |  9 | 1439350 | 1439850 |  2.317988 | 0.5209411 |  0.028072969 | Astrocytes | Cocaine_v_Saline |\n",
       "| 10...6 | chr1 | 10 | 1481809 | 1482309 |  1.094580 | 0.5209411 |  0.007996543 | Astrocytes | Cocaine_v_Saline |\n",
       "\n"
      ],
      "text/plain": [
       "       seqnames idx start   end     Log2FC    FDR       MeanDiff     CellType  \n",
       "2...1  chr1      2   577755  578255 -2.295078 0.5209411 -0.027519748 Astrocytes\n",
       "4...2  chr1      4   595207  595707  1.359338 0.5209411  0.011025874 Astrocytes\n",
       "5...3  chr1      5   595781  596281  1.916263 0.5209411  0.019538322 Astrocytes\n",
       "6...4  chr1      6   660470  660970  2.661691 0.5209411  0.037519324 Astrocytes\n",
       "9...5  chr1      9  1439350 1439850  2.317988 0.5209411  0.028072969 Astrocytes\n",
       "10...6 chr1     10  1481809 1482309  1.094580 0.5209411  0.007996543 Astrocytes\n",
       "       Condition       \n",
       "2...1  Cocaine_v_Saline\n",
       "4...2  Cocaine_v_Saline\n",
       "5...3  Cocaine_v_Saline\n",
       "6...4  Cocaine_v_Saline\n",
       "9...5  Cocaine_v_Saline\n",
       "10...6 Cocaine_v_Saline"
      ]
     },
     "metadata": {},
     "output_type": "display_data"
    }
   ],
   "source": [
    "\n",
    "\n",
    "# List all .rds files in the specified directory\n",
    "file_path <- \"/projects/pfenninggroup/singleCell/Pierce_transgen_rat_multiome/data/new_differential_Peaks_data\"\n",
    "rds_files <- list.files(file_path, pattern = \"\\\\.rds$\", full.names = TRUE)\n",
    "\n",
    "# Function to process a single .rds file\n",
    "process_rds_file <- function(rds_file) {\n",
    "  # Read the .rds file containing the SummarizedExperiment objects into a list\n",
    "  rds_list <- readRDS(rds_file)\n",
    "\n",
    "  # Extract the cell type name from the file name\n",
    "  cell_type <- str_replace(basename(rds_file), \"differential_PeakMatrix\\\\.(.*)\\\\.rds\", \"\\\\1\")\n",
    "\n",
    "  # Process each SummarizedExperiment object and store the resulting data frames in a list\n",
    "  df_list <- lapply(seq_along(rds_list), function(i) {\n",
    "    # Get the condition name\n",
    "    cond <- names(rds_list)[i]\n",
    "    \n",
    "    # Filter the SummarizedExperiment object based on FDR <= 0.1\n",
    "    filtered <- getMarkers(rds_list[[i]], cutOff = \"FDR <= 1\")\n",
    "    \n",
    "    # Get the name of the specific condition\n",
    "    name <- names(filtered)\n",
    "\n",
    "    # Get the data frame using the condition name\n",
    "    filtered_df <- filtered[[name]]\n",
    "\n",
    "    # Convert the DataFrame object to a regular data.frame\n",
    "    filtered_df <- as.data.frame(filtered_df)\n",
    "\n",
    "    # Add columns with cell type and condition information using mutate()\n",
    "    filtered_df <- filtered_df %>%\n",
    "      mutate(CellType = cell_type, Condition = cond)\n",
    "\n",
    "    return(filtered_df)\n",
    "  })\n",
    "\n",
    "  # Combine the resulting data frames into one large data frame\n",
    "  combined_df <- bind_rows(df_list)\n",
    "  \n",
    "  return(combined_df)\n",
    "}\n",
    "\n",
    "# Process all .rds files and store the resulting data frames in a list\n",
    "all_df_list <- lapply(rds_files, process_rds_file)\n",
    "\n",
    "# Combine all data frames into a single large data frame\n",
    "final_combined_df <- bind_rows(all_df_list)\n",
    "\n",
    "# Print the final combined data frame\n",
    "head(final_combined_df)\n"
   ]
  },
  {
   "cell_type": "code",
   "execution_count": 10,
   "id": "70448a26",
   "metadata": {},
   "outputs": [
    {
     "name": "stderr",
     "output_type": "stream",
     "text": [
      "Updating HTML index of packages in '.Library'\n",
      "\n",
      "Making 'packages.html' ...\n",
      " done\n",
      "\n"
     ]
    }
   ],
   "source": [
    "install.packages(\"DT\")\n",
    "library(DT)"
   ]
  },
  {
   "cell_type": "code",
   "execution_count": 15,
   "id": "57063378",
   "metadata": {},
   "outputs": [],
   "source": [
    "#head(final_combined_df)"
   ]
  },
  {
   "cell_type": "code",
   "execution_count": 10,
   "id": "151d7fef",
   "metadata": {},
   "outputs": [],
   "source": [
    "saveDir = \"/projects/pfenninggroup/singleCell/Pierce_transgen_rat_multiome/data/new_differential_Peaks_data\"\n",
    "path = file.path(saveDir, paste0('combined_PeakMatrix.rds'))\n",
    "saveRDS(final_combined_df, path)"
   ]
  },
  {
   "cell_type": "code",
   "execution_count": 19,
   "id": "8d1573a1",
   "metadata": {},
   "outputs": [
    {
     "name": "stderr",
     "output_type": "stream",
     "text": [
      "Updating HTML index of packages in '.Library'\n",
      "\n",
      "Making 'packages.html' ...\n",
      " done\n",
      "\n"
     ]
    }
   ],
   "source": [
    "install.packages(\"writexl\")\n"
   ]
  },
  {
   "cell_type": "code",
   "execution_count": 20,
   "id": "776dd1f3",
   "metadata": {},
   "outputs": [],
   "source": [
    "library(writexl)"
   ]
  },
  {
   "cell_type": "code",
   "execution_count": 21,
   "id": "d38525c4",
   "metadata": {},
   "outputs": [
    {
     "ename": "ERROR",
     "evalue": "Error: Error in libxlsxwriter: 'Worksheet row or column index out of range.'\n",
     "output_type": "error",
     "traceback": [
      "Error: Error in libxlsxwriter: 'Worksheet row or column index out of range.'\nTraceback:\n",
      "1. write_xlsx(final_combined_df, \"/projects/pfenninggroup/singleCell/Pierce_transgen_rat_multiome/data/differential_Peaks_data/combined_PeakMatrix.xlsx\")"
     ]
    }
   ],
   "source": [
    "write_xlsx(final_combined_df,\"/projects/pfenninggroup/singleCell/Pierce_transgen_rat_multiome/data/differential_Peaks_data/combined_PeakMatrix.xlsx\" )"
   ]
  },
  {
   "cell_type": "code",
   "execution_count": 22,
   "id": "1d7828a2",
   "metadata": {},
   "outputs": [],
   "source": [
    "write.csv(final_combined_df,\"/projects/pfenninggroup/singleCell/Pierce_transgen_rat_multiome/data/differential_Peaks_data/combined_PeakMatrix.csv\" )"
   ]
  },
  {
   "cell_type": "code",
   "execution_count": 9,
   "id": "e0ea0102",
   "metadata": {},
   "outputs": [],
   "source": [
    "joined_df <- read.csv(\"/projects/pfenninggroup/singleCell/Pierce_transgen_rat_multiome/data/differential_Peaks_data/combined_PeakMatrix.csv\")"
   ]
  },
  {
   "cell_type": "code",
   "execution_count": 10,
   "id": "72d81a63",
   "metadata": {},
   "outputs": [
    {
     "data": {
      "text/html": [
       "<style>\n",
       ".list-inline {list-style: none; margin:0; padding: 0}\n",
       ".list-inline>li {display: inline-block}\n",
       ".list-inline>li:not(:last-child)::after {content: \"\\00b7\"; padding: 0 .5ex}\n",
       "</style>\n",
       "<ol class=list-inline><li>12523250</li><li>10</li></ol>\n"
      ],
      "text/latex": [
       "\\begin{enumerate*}\n",
       "\\item 12523250\n",
       "\\item 10\n",
       "\\end{enumerate*}\n"
      ],
      "text/markdown": [
       "1. 12523250\n",
       "2. 10\n",
       "\n",
       "\n"
      ],
      "text/plain": [
       "[1] 12523250       10"
      ]
     },
     "metadata": {},
     "output_type": "display_data"
    }
   ],
   "source": [
    "dim(joined_df)"
   ]
  },
  {
   "cell_type": "code",
   "execution_count": 11,
   "id": "7d7d9447",
   "metadata": {},
   "outputs": [
    {
     "data": {
      "text/html": [
       "<table class=\"dataframe\">\n",
       "<caption>A data.frame: 6 × 9</caption>\n",
       "<thead>\n",
       "\t<tr><th></th><th scope=col>seqnames</th><th scope=col>idx</th><th scope=col>start</th><th scope=col>end</th><th scope=col>Log2FC</th><th scope=col>FDR</th><th scope=col>MeanDiff</th><th scope=col>CellType</th><th scope=col>Condition</th></tr>\n",
       "\t<tr><th></th><th scope=col>&lt;chr&gt;</th><th scope=col>&lt;int&gt;</th><th scope=col>&lt;int&gt;</th><th scope=col>&lt;int&gt;</th><th scope=col>&lt;dbl&gt;</th><th scope=col>&lt;dbl&gt;</th><th scope=col>&lt;dbl&gt;</th><th scope=col>&lt;chr&gt;</th><th scope=col>&lt;chr&gt;</th></tr>\n",
       "</thead>\n",
       "<tbody>\n",
       "\t<tr><th scope=row>2...1</th><td>chr1</td><td> 2</td><td> 577755</td><td> 578255</td><td>-2.295078</td><td>0.5209411</td><td>-0.027519748</td><td>Astrocytes</td><td>Cocaine_v_Saline</td></tr>\n",
       "\t<tr><th scope=row>4...2</th><td>chr1</td><td> 4</td><td> 595207</td><td> 595707</td><td> 1.359338</td><td>0.5209411</td><td> 0.011025874</td><td>Astrocytes</td><td>Cocaine_v_Saline</td></tr>\n",
       "\t<tr><th scope=row>5...3</th><td>chr1</td><td> 5</td><td> 595781</td><td> 596281</td><td> 1.916263</td><td>0.5209411</td><td> 0.019538322</td><td>Astrocytes</td><td>Cocaine_v_Saline</td></tr>\n",
       "\t<tr><th scope=row>6...4</th><td>chr1</td><td> 6</td><td> 660470</td><td> 660970</td><td> 2.661691</td><td>0.5209411</td><td> 0.037519324</td><td>Astrocytes</td><td>Cocaine_v_Saline</td></tr>\n",
       "\t<tr><th scope=row>9...5</th><td>chr1</td><td> 9</td><td>1439350</td><td>1439850</td><td> 2.317988</td><td>0.5209411</td><td> 0.028072969</td><td>Astrocytes</td><td>Cocaine_v_Saline</td></tr>\n",
       "\t<tr><th scope=row>10...6</th><td>chr1</td><td>10</td><td>1481809</td><td>1482309</td><td> 1.094580</td><td>0.5209411</td><td> 0.007996543</td><td>Astrocytes</td><td>Cocaine_v_Saline</td></tr>\n",
       "</tbody>\n",
       "</table>\n"
      ],
      "text/latex": [
       "A data.frame: 6 × 9\n",
       "\\begin{tabular}{r|lllllllll}\n",
       "  & seqnames & idx & start & end & Log2FC & FDR & MeanDiff & CellType & Condition\\\\\n",
       "  & <chr> & <int> & <int> & <int> & <dbl> & <dbl> & <dbl> & <chr> & <chr>\\\\\n",
       "\\hline\n",
       "\t2...1 & chr1 &  2 &  577755 &  578255 & -2.295078 & 0.5209411 & -0.027519748 & Astrocytes & Cocaine\\_v\\_Saline\\\\\n",
       "\t4...2 & chr1 &  4 &  595207 &  595707 &  1.359338 & 0.5209411 &  0.011025874 & Astrocytes & Cocaine\\_v\\_Saline\\\\\n",
       "\t5...3 & chr1 &  5 &  595781 &  596281 &  1.916263 & 0.5209411 &  0.019538322 & Astrocytes & Cocaine\\_v\\_Saline\\\\\n",
       "\t6...4 & chr1 &  6 &  660470 &  660970 &  2.661691 & 0.5209411 &  0.037519324 & Astrocytes & Cocaine\\_v\\_Saline\\\\\n",
       "\t9...5 & chr1 &  9 & 1439350 & 1439850 &  2.317988 & 0.5209411 &  0.028072969 & Astrocytes & Cocaine\\_v\\_Saline\\\\\n",
       "\t10...6 & chr1 & 10 & 1481809 & 1482309 &  1.094580 & 0.5209411 &  0.007996543 & Astrocytes & Cocaine\\_v\\_Saline\\\\\n",
       "\\end{tabular}\n"
      ],
      "text/markdown": [
       "\n",
       "A data.frame: 6 × 9\n",
       "\n",
       "| <!--/--> | seqnames &lt;chr&gt; | idx &lt;int&gt; | start &lt;int&gt; | end &lt;int&gt; | Log2FC &lt;dbl&gt; | FDR &lt;dbl&gt; | MeanDiff &lt;dbl&gt; | CellType &lt;chr&gt; | Condition &lt;chr&gt; |\n",
       "|---|---|---|---|---|---|---|---|---|---|\n",
       "| 2...1 | chr1 |  2 |  577755 |  578255 | -2.295078 | 0.5209411 | -0.027519748 | Astrocytes | Cocaine_v_Saline |\n",
       "| 4...2 | chr1 |  4 |  595207 |  595707 |  1.359338 | 0.5209411 |  0.011025874 | Astrocytes | Cocaine_v_Saline |\n",
       "| 5...3 | chr1 |  5 |  595781 |  596281 |  1.916263 | 0.5209411 |  0.019538322 | Astrocytes | Cocaine_v_Saline |\n",
       "| 6...4 | chr1 |  6 |  660470 |  660970 |  2.661691 | 0.5209411 |  0.037519324 | Astrocytes | Cocaine_v_Saline |\n",
       "| 9...5 | chr1 |  9 | 1439350 | 1439850 |  2.317988 | 0.5209411 |  0.028072969 | Astrocytes | Cocaine_v_Saline |\n",
       "| 10...6 | chr1 | 10 | 1481809 | 1482309 |  1.094580 | 0.5209411 |  0.007996543 | Astrocytes | Cocaine_v_Saline |\n",
       "\n"
      ],
      "text/plain": [
       "       seqnames idx start   end     Log2FC    FDR       MeanDiff     CellType  \n",
       "2...1  chr1      2   577755  578255 -2.295078 0.5209411 -0.027519748 Astrocytes\n",
       "4...2  chr1      4   595207  595707  1.359338 0.5209411  0.011025874 Astrocytes\n",
       "5...3  chr1      5   595781  596281  1.916263 0.5209411  0.019538322 Astrocytes\n",
       "6...4  chr1      6   660470  660970  2.661691 0.5209411  0.037519324 Astrocytes\n",
       "9...5  chr1      9  1439350 1439850  2.317988 0.5209411  0.028072969 Astrocytes\n",
       "10...6 chr1     10  1481809 1482309  1.094580 0.5209411  0.007996543 Astrocytes\n",
       "       Condition       \n",
       "2...1  Cocaine_v_Saline\n",
       "4...2  Cocaine_v_Saline\n",
       "5...3  Cocaine_v_Saline\n",
       "6...4  Cocaine_v_Saline\n",
       "9...5  Cocaine_v_Saline\n",
       "10...6 Cocaine_v_Saline"
      ]
     },
     "metadata": {},
     "output_type": "display_data"
    }
   ],
   "source": [
    "head(final_combined_df)"
   ]
  },
  {
   "cell_type": "code",
   "execution_count": 12,
   "id": "c5f830de",
   "metadata": {},
   "outputs": [
    {
     "data": {
      "text/html": [
       "0"
      ],
      "text/latex": [
       "0"
      ],
      "text/markdown": [
       "0"
      ],
      "text/plain": [
       "[1] 0"
      ]
     },
     "metadata": {},
     "output_type": "display_data"
    }
   ],
   "source": [
    "sum(joined_df$FDR < 0.1)"
   ]
  },
  {
   "cell_type": "code",
   "execution_count": null,
   "id": "69ad2ecf",
   "metadata": {},
   "outputs": [],
   "source": []
  }
 ],
 "metadata": {
  "kernelspec": {
   "display_name": "R",
   "language": "R",
   "name": "ir"
  },
  "language_info": {
   "codemirror_mode": "r",
   "file_extension": ".r",
   "mimetype": "text/x-r-source",
   "name": "R",
   "pygments_lexer": "r",
   "version": "4.1.3"
  }
 },
 "nbformat": 4,
 "nbformat_minor": 5
}
