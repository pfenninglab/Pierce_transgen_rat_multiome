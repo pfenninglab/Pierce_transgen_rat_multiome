{
 "cells": [
  {
   "cell_type": "code",
   "execution_count": 10,
   "id": "61773169",
   "metadata": {},
   "outputs": [],
   "source": [
    "suppressMessages(library(ArchR))\n",
    "#library(BSgenome.Rnorvegicus.UCSC.rn7)\n",
    "ss <- function(x, pattern, slot = 1, ...) { sapply(strsplit(x = x, split = pattern, ...), '[', slot) }\n",
    "options(stringsAsFactors = F)\n",
    "options(repr.plot.width=11, repr.plot.height=8.5)"
   ]
  },
  {
   "cell_type": "code",
   "execution_count": 11,
   "id": "18039b95",
   "metadata": {},
   "outputs": [
    {
     "name": "stderr",
     "output_type": "stream",
     "text": [
      "Successfully loaded ArchRProject!\n",
      "\n"
     ]
    }
   ],
   "source": [
    "PROJDIR='/projects/pfenninggroup/singleCell/Pierce_transgen_rat_multiome/data/tidy_data/ArchRProjects'\n",
    "projM = loadArchRProject(file.path(PROJDIR,'Rat_Transgen_NAc_multiome'), showLogo = FALSE)"
   ]
  },
  {
   "cell_type": "code",
   "execution_count": 9,
   "id": "283328ba",
   "metadata": {},
   "outputs": [
    {
     "data": {
      "text/html": [
       "<style>\n",
       ".list-inline {list-style: none; margin:0; padding: 0}\n",
       ".list-inline>li {display: inline-block}\n",
       ".list-inline>li:not(:last-child)::after {content: \"\\00b7\"; padding: 0 .5ex}\n",
       "</style>\n",
       "<ol class=list-inline><li>'GeneExpressionMatrix'</li><li>'GeneScoreMatrix'</li><li>'MotifMatrix'</li><li>'PeakMatrix'</li><li>'TileMatrix'</li></ol>\n"
      ],
      "text/latex": [
       "\\begin{enumerate*}\n",
       "\\item 'GeneExpressionMatrix'\n",
       "\\item 'GeneScoreMatrix'\n",
       "\\item 'MotifMatrix'\n",
       "\\item 'PeakMatrix'\n",
       "\\item 'TileMatrix'\n",
       "\\end{enumerate*}\n"
      ],
      "text/markdown": [
       "1. 'GeneExpressionMatrix'\n",
       "2. 'GeneScoreMatrix'\n",
       "3. 'MotifMatrix'\n",
       "4. 'PeakMatrix'\n",
       "5. 'TileMatrix'\n",
       "\n",
       "\n"
      ],
      "text/plain": [
       "[1] \"GeneExpressionMatrix\" \"GeneScoreMatrix\"      \"MotifMatrix\"         \n",
       "[4] \"PeakMatrix\"           \"TileMatrix\"          "
      ]
     },
     "metadata": {},
     "output_type": "display_data"
    }
   ],
   "source": [
    "getAvailableMatrices(projM)"
   ]
  },
  {
   "cell_type": "code",
   "execution_count": 12,
   "id": "6b22b5a3",
   "metadata": {},
   "outputs": [
    {
     "name": "stderr",
     "output_type": "stream",
     "text": [
      "ArchR logging to : ArchRLogs/ArchR-addMotifAnnotations-d4273e9c519-Date-2024-02-16_Time-01-01-17.log\n",
      "If there is an issue, please report to github with logFile!\n",
      "\n"
     ]
    },
    {
     "ename": "ERROR",
     "evalue": "Error in addMotifAnnotations(ArchRProj = projM, motifSet = \"JASPAR2020\", : peakAnnotation name already exists! set force = TRUE to override!\n",
     "output_type": "error",
     "traceback": [
      "Error in addMotifAnnotations(ArchRProj = projM, motifSet = \"JASPAR2020\", : peakAnnotation name already exists! set force = TRUE to override!\nTraceback:\n",
      "1. addMotifAnnotations(ArchRProj = projM, motifSet = \"JASPAR2020\", \n .     name = \"MotifJASPAR\", species = \"mus musculus\")",
      "2. stop(\"peakAnnotation name already exists! set force = TRUE to override!\")"
     ]
    }
   ],
   "source": [
    "projM <- addMotifAnnotations(ArchRProj = projM, motifSet = \"JASPAR2020\", name = \"JASPAR\", species = \"mus musculus\")"
   ]
  },
  {
   "cell_type": "code",
   "execution_count": null,
   "id": "c46870ad",
   "metadata": {},
   "outputs": [],
   "source": [
    "projM <- addBgdPeaks(projM)"
   ]
  }
 ],
 "metadata": {
  "kernelspec": {
   "display_name": "R",
   "language": "R",
   "name": "ir"
  },
  "language_info": {
   "codemirror_mode": "r",
   "file_extension": ".r",
   "mimetype": "text/x-r-source",
   "name": "R",
   "pygments_lexer": "r",
   "version": "4.2.3"
  }
 },
 "nbformat": 4,
 "nbformat_minor": 5
}
