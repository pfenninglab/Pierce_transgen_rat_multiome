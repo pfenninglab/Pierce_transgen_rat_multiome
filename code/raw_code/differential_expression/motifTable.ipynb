{
 "cells": [
  {
   "cell_type": "code",
   "execution_count": 1,
   "id": "4ba24054",
   "metadata": {},
   "outputs": [],
   "source": [
    "suppressMessages(library(ArchR))\n",
    "ss <- function(x, pattern, slot = 1, ...) { sapply(strsplit(x = x, split = pattern, ...), '[', slot) }\n",
    "options(stringsAsFactors = F)\n",
    "options(repr.plot.width=11, repr.plot.height=8.5)"
   ]
  },
  {
   "cell_type": "code",
   "execution_count": 2,
   "id": "7e5cf5d7",
   "metadata": {},
   "outputs": [
    {
     "name": "stderr",
     "output_type": "stream",
     "text": [
      "Successfully loaded ArchRProject!\n",
      "\n"
     ]
    }
   ],
   "source": [
    "PROJDIR='../../../data/tidy_data/ArchRProjects'\n",
    "proj = loadArchRProject(file.path(PROJDIR,'Rat_Transgen_NAc_scATAC_clusterRat'), showLogo = FALSE)"
   ]
  },
  {
   "cell_type": "code",
   "execution_count": 3,
   "id": "dd0e30d4",
   "metadata": {},
   "outputs": [
    {
     "name": "stderr",
     "output_type": "stream",
     "text": [
      "ArchR logging to : ArchRLogs/ArchR-getGroupSE-e85b2047f9b7-Date-2023-03-07_Time-08-12-45.log\n",
      "If there is an issue, please report to github with logFile!\n",
      "\n",
      "Getting Group Matrix\n",
      "\n",
      "2023-03-07 08:12:48 : Constructing Group Matrix 1 of 2, 0.003 mins elapsed.\n",
      "\n",
      "2023-03-07 08:12:57 : Finished Group Matrix 1 of 2, 0.161 mins elapsed.\n",
      "\n",
      "2023-03-07 08:12:57 : Constructing Group Matrix 2 of 2, 0.162 mins elapsed.\n",
      "\n",
      "2023-03-07 08:13:05 : Finished Group Matrix 2 of 2, 0.295 mins elapsed.\n",
      "\n",
      "2023-03-07 08:13:05 : Successfully Created Group Matrix, 0.295 mins elapsed.\n",
      "\n",
      "Normalizing by number of Cells\n",
      "\n",
      "ArchR logging successful to : ArchRLogs/ArchR-getGroupSE-e85b2047f9b7-Date-2023-03-07_Time-08-12-45.log\n",
      "\n"
     ]
    }
   ],
   "source": [
    "seGroupMotif <- getGroupSE(ArchRProj = proj, useMatrix = \"MotifMatrix\", groupBy = \"Sire\")"
   ]
  },
  {
   "cell_type": "code",
   "execution_count": 4,
   "id": "e18e47e0",
   "metadata": {},
   "outputs": [
    {
     "data": {
      "text/plain": [
       "class: SummarizedExperiment \n",
       "dim: 1768 3 \n",
       "metadata(0):\n",
       "assays(1): MotifMatrix\n",
       "rownames(1768): f1 f2 ... f1767 f1768\n",
       "rowData names(3): seqnames idx name\n",
       "colnames(3): Cocaine Methamphetamine Saline\n",
       "colData names(18): TSSEnrichment ReadsInTSS ... FRIP nCells"
      ]
     },
     "metadata": {},
     "output_type": "display_data"
    }
   ],
   "source": [
    "seGroupMotif"
   ]
  },
  {
   "cell_type": "code",
   "execution_count": 5,
   "id": "571612f0",
   "metadata": {},
   "outputs": [],
   "source": [
    "seZ <- seGroupMotif[rowData(seGroupMotif)$seqnames==\"z\",]"
   ]
  },
  {
   "cell_type": "code",
   "execution_count": 6,
   "id": "6eea0013",
   "metadata": {},
   "outputs": [],
   "source": [
    "rowData(seZ)$maxDelta <- lapply(seq_len(ncol(seZ)), function(x){\n",
    "  rowMaxs(assay(seZ) - assay(seZ)[,x])\n",
    "}) %>% Reduce(\"cbind\", .) %>% rowMaxs"
   ]
  },
  {
   "cell_type": "code",
   "execution_count": 9,
   "id": "2dd6a3d1",
   "metadata": {},
   "outputs": [
    {
     "name": "stderr",
     "output_type": "stream",
     "text": [
      "ArchR logging to : ArchRLogs/ArchR-correlateMatrices-e85b33080324-Date-2023-03-07_Time-08-29-16.log\n",
      "If there is an issue, please report to github with logFile!\n",
      "\n",
      "When accessing features from a matrix of class Sparse.Assays.Matrix it requires 1 seqname!\n",
      "Continuing with first seqname 'z'!\n",
      "If confused, try getFeatures(ArchRProj, 'MotifMatrix') to list out available seqnames for input!\n",
      "\n",
      "2023-03-07 08:29:22 : Testing 784 Mappings!, 0.107 mins elapsed.\n",
      "\n",
      "2023-03-07 08:29:22 : Computing KNN, 0.107 mins elapsed.\n",
      "\n",
      "2023-03-07 08:29:26 : Identifying Non-Overlapping KNN pairs, 0.172 mins elapsed.\n",
      "\n",
      "2023-03-07 08:29:29 : Identified 500 Groupings!, 0.216 mins elapsed.\n",
      "\n",
      "2023-03-07 08:29:32 : Getting Group Matrix 1, 0.262 mins elapsed.\n",
      "\n",
      "2023-03-07 08:31:04 : Getting Group Matrix 2, 1.794 mins elapsed.\n",
      "\n",
      "Some entries in groupMat2 are less than 0, continuing without Log2 Normalization.\n",
      "Most likely this assay is a deviations matrix.\n",
      "\n",
      "Getting Correlations...\n",
      "\n",
      "2023-03-07 08:31:14 : \n",
      "\n",
      "Computing Correlation (250 of 784)\n",
      "\n",
      "Computing Correlation (500 of 784)\n",
      "\n",
      "Computing Correlation (750 of 784)\n",
      "\n",
      "ArchR logging successful to : ArchRLogs/ArchR-correlateMatrices-e85b33080324-Date-2023-03-07_Time-08-29-16.log\n",
      "\n"
     ]
    }
   ],
   "source": [
    "corGSM_MM <- correlateMatrices(\n",
    "    ArchRProj = proj,\n",
    "    useMatrix1 = \"GeneScoreMatrix\",\n",
    "    useMatrix2 = \"MotifMatrix\",\n",
    "    reducedDims = \"HarmonyI200_ATAC\"\n",
    ")"
   ]
  },
  {
   "cell_type": "code",
   "execution_count": 7,
   "id": "74f41b42",
   "metadata": {},
   "outputs": [
    {
     "name": "stderr",
     "output_type": "stream",
     "text": [
      "Successfully loaded ArchRProject!\n",
      "\n"
     ]
    }
   ],
   "source": [
    "PROJDIR='/projects/pfenninggroup/singleCell/Pierce_transgen_rat_multiome/data/tidy_data/ArchRProjects'\n",
    "projM = loadArchRProject(file.path(PROJDIR,'Rat_Transgen_NAc_multiome'), showLogo = FALSE)"
   ]
  },
  {
   "cell_type": "code",
   "execution_count": 8,
   "id": "9a4f4c08",
   "metadata": {},
   "outputs": [
    {
     "data": {
      "text/html": [
       "<style>\n",
       ".list-inline {list-style: none; margin:0; padding: 0}\n",
       ".list-inline>li {display: inline-block}\n",
       ".list-inline>li:not(:last-child)::after {content: \"\\00b7\"; padding: 0 .5ex}\n",
       "</style>\n",
       "<ol class=list-inline><li>'GeneExpressionMatrix'</li><li>'GeneScoreMatrix'</li><li>'PeakMatrix'</li><li>'TileMatrix'</li></ol>\n"
      ],
      "text/latex": [
       "\\begin{enumerate*}\n",
       "\\item 'GeneExpressionMatrix'\n",
       "\\item 'GeneScoreMatrix'\n",
       "\\item 'PeakMatrix'\n",
       "\\item 'TileMatrix'\n",
       "\\end{enumerate*}\n"
      ],
      "text/markdown": [
       "1. 'GeneExpressionMatrix'\n",
       "2. 'GeneScoreMatrix'\n",
       "3. 'PeakMatrix'\n",
       "4. 'TileMatrix'\n",
       "\n",
       "\n"
      ],
      "text/plain": [
       "[1] \"GeneExpressionMatrix\" \"GeneScoreMatrix\"      \"PeakMatrix\"          \n",
       "[4] \"TileMatrix\"          "
      ]
     },
     "metadata": {},
     "output_type": "display_data"
    }
   ],
   "source": [
    "getAvailableMatrices(ArchRProj = projM)"
   ]
  },
  {
   "cell_type": "code",
   "execution_count": null,
   "id": "6a90edea",
   "metadata": {},
   "outputs": [],
   "source": []
  }
 ],
 "metadata": {
  "kernelspec": {
   "display_name": "R",
   "language": "R",
   "name": "ir"
  },
  "language_info": {
   "codemirror_mode": "r",
   "file_extension": ".r",
   "mimetype": "text/x-r-source",
   "name": "R",
   "pygments_lexer": "r",
   "version": "4.1.3"
  }
 },
 "nbformat": 4,
 "nbformat_minor": 5
}
