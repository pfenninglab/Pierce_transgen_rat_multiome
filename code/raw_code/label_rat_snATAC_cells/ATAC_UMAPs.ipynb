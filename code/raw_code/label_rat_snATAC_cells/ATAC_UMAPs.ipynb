{
 "cells": [
  {
   "cell_type": "code",
   "execution_count": 1,
   "id": "4c753e61",
   "metadata": {},
   "outputs": [],
   "source": [
    "suppressMessages(library(ArchR))\n",
    "ss <- function(x, pattern, slot = 1, ...) { sapply(strsplit(x = x, split = pattern, ...), '[', slot) }\n",
    "options(stringsAsFactors = F)\n",
    "options(repr.plot.width=11, repr.plot.height=8.5)\n",
    "suppressMessages(library(tidyverse))\n",
    "suppressMessages(library(SingleCellExperiment))"
   ]
  },
  {
   "cell_type": "code",
   "execution_count": 10,
   "id": "22dd7e92",
   "metadata": {},
   "outputs": [
    {
     "name": "stderr",
     "output_type": "stream",
     "text": [
      "Setting default number of Parallel threads to 12.\n",
      "\n"
     ]
    }
   ],
   "source": [
    "##################################\n",
    "### set Arrow File parameters ####\n",
    "addArchRThreads(threads = 12)\n",
    "\n",
    "##################################\n",
    "### load rheMac10 ArchR genome ###\n",
    "GENOMEDIR='/home/bnphan/resources/genomes/rheMac10'\n",
    "load(file.path(GENOMEDIR,'rheMac10_liftoff_GRCh38.p13_ArchR_annotations.rda'))"
   ]
  },
  {
   "cell_type": "code",
   "execution_count": 12,
   "id": "670493b3",
   "metadata": {},
   "outputs": [
    {
     "name": "stderr",
     "output_type": "stream",
     "text": [
      "Successfully loaded ArchRProject!\n",
      "\n",
      "Successfully loaded ArchRProject!\n",
      "\n",
      "Successfully loaded ArchRProject!\n",
      "\n",
      "Successfully loaded ArchRProject!\n",
      "\n"
     ]
    }
   ],
   "source": [
    "PROJDIR='../../../data/tidy_data/ArchRProjects'\n",
    "proj = loadArchRProject(file.path(PROJDIR,'Rat_Transgen_NAc_scATAC'), showLogo = FALSE)\n",
    "projMSN = loadArchRProject(file.path(PROJDIR,'Rat_Transgen_NAc_scATAC_MSN'), showLogo = FALSE)\n",
    "projNeuron = loadArchRProject(file.path(PROJDIR,'Rat_Transgen_NAc_scATAC_Neuron'), showLogo = FALSE)\n",
    "projGlia = loadArchRProject(file.path(PROJDIR,'Rat_Transgen_NAc_scATAC_Glia'), showLogo = FALSE)"
   ]
  },
  {
   "cell_type": "code",
   "execution_count": 13,
   "id": "c08c13a4",
   "metadata": {},
   "outputs": [
    {
     "name": "stderr",
     "output_type": "stream",
     "text": [
      "Successfully loaded ArchRProject!\n",
      "\n"
     ]
    }
   ],
   "source": [
    "projRat = loadArchRProject(file.path(PROJDIR,'Rat_Transgen_NAc_scATAC_clusterRat'), showLogo = FALSE)"
   ]
  },
  {
   "cell_type": "code",
   "execution_count": 23,
   "id": "9f7aa2b2",
   "metadata": {
    "scrolled": true
   },
   "outputs": [
    {
     "data": {
      "text/plain": [
       "DataFrame with 10959 rows and 24 columns\n",
       "                           Sample TSSEnrichment ReadsInTSS ReadsInPromoter\n",
       "                      <character>     <numeric>  <numeric>       <numeric>\n",
       "1S#TTGTGCCTCCTGTTCA-1          1S         4.660        913            6950\n",
       "1S#AAGTTTGTCACCATTT-1          1S         3.868        840            6645\n",
       "1S#AGGTCCGGTATCTGGA-1          1S         4.541        892            6618\n",
       "1S#GCCTATTGTGTGTCCC-1          1S         4.270        856            6571\n",
       "1S#GGTTTAATCCAGGTTG-1          1S         4.365        853            6508\n",
       "...                           ...           ...        ...             ...\n",
       "5M#ATGTCCACAACCCTAA-1          5M        13.340        256            1228\n",
       "5M#TCCAGGATCCTGGTGA-1          5M         8.641        144             844\n",
       "5M#CGTGACATCTTACTCG-1          5M         6.450        114             692\n",
       "5M#GGTGTGACATTAGCCA-1          5M         4.408         69             547\n",
       "5M#ATGCGATTCACAAGCT-1          5M        16.304        247            1303\n",
       "                      ReadsInBlacklist PromoterRatio    PassQC NucleosomeRatio\n",
       "                             <numeric>     <numeric> <numeric>       <numeric>\n",
       "1S#TTGTGCCTCCTGTTCA-1                7     0.0666833         1        1.330799\n",
       "1S#AAGTTTGTCACCATTT-1                2     0.0679531         1        0.949133\n",
       "1S#AGGTCCGGTATCTGGA-1                2     0.0679703         1        1.205046\n",
       "1S#GCCTATTGTGTGTCCC-1                2     0.0677297         1        1.141867\n",
       "1S#GGTTTAATCCAGGTTG-1                2     0.0691825         1        1.225140\n",
       "...                                ...           ...       ...             ...\n",
       "5M#ATGTCCACAACCCTAA-1                0     0.1536921         1        1.091623\n",
       "5M#TCCAGGATCCTGGTGA-1                0     0.1056585         1        0.966519\n",
       "5M#CGTGACATCTTACTCG-1                2     0.0866516         1        0.780205\n",
       "5M#GGTGTGACATTAGCCA-1                0     0.0686152         1        1.091291\n",
       "5M#ATGCGATTCACAAGCT-1                2     0.1635702         1        1.084249\n",
       "                      nMultiFrags nMonoFrags    nFrags  nDiFrags DoubletScore\n",
       "                        <numeric>  <numeric> <numeric> <numeric>    <numeric>\n",
       "1S#TTGTGCCTCCTGTTCA-1        8545      22358     52112     21209            0\n",
       "1S#AAGTTTGTCACCATTT-1        6845      25085     48894     16964            0\n",
       "1S#AGGTCCGGTATCTGGA-1        7834      22078     48683     18771            0\n",
       "1S#GCCTATTGTGTGTCCC-1        7407      22648     48509     18454            0\n",
       "1S#GGTTTAATCCAGGTTG-1        7566      21138     47035     18331            0\n",
       "...                           ...        ...       ...       ...          ...\n",
       "5M#ATGTCCACAACCCTAA-1         490       1910      3995      1595            0\n",
       "5M#TCCAGGATCCTGGTGA-1         462       2031      3994      1501            0\n",
       "5M#CGTGACATCTTACTCG-1         415       2243      3993      1335            0\n",
       "5M#GGTGTGACATTAGCCA-1         490       1906      3986      1590            0\n",
       "5M#ATGCGATTCACAAGCT-1         506       1911      3983      1566            0\n",
       "                      DoubletEnrichment BlacklistRatio            Sire\n",
       "                              <numeric>      <numeric>     <character>\n",
       "1S#TTGTGCCTCCTGTTCA-1          0.464516    6.71630e-05          Saline\n",
       "1S#AAGTTTGTCACCATTT-1          0.445161    2.04524e-05          Saline\n",
       "1S#AGGTCCGGTATCTGGA-1          0.496774    2.05411e-05          Saline\n",
       "1S#GCCTATTGTGTGTCCC-1          0.380645    2.06147e-05          Saline\n",
       "1S#GGTTTAATCCAGGTTG-1          0.406452    2.12608e-05          Saline\n",
       "...                                 ...            ...             ...\n",
       "5M#ATGTCCACAACCCTAA-1              0.90    0.000000000 Methamphetamine\n",
       "5M#TCCAGGATCCTGGTGA-1              0.42    0.000000000 Methamphetamine\n",
       "5M#CGTGACATCTTACTCG-1              0.16    0.000250438 Methamphetamine\n",
       "5M#GGTGTGACATTAGCCA-1              1.04    0.000000000 Methamphetamine\n",
       "5M#ATGCGATTCACAAGCT-1              0.56    0.000251067 Methamphetamine\n",
       "                      ClustersI200_ATAC ClustersH200_ATAC logNFrags   Celltype1\n",
       "                            <character>       <character> <numeric> <character>\n",
       "1S#TTGTGCCTCCTGTTCA-1               C10                C5   4.71694      Neuron\n",
       "1S#AAGTTTGTCACCATTT-1               C10                C5   4.68926      Neuron\n",
       "1S#AGGTCCGGTATCTGGA-1               C10                C6   4.68738      Neuron\n",
       "1S#GCCTATTGTGTGTCCC-1               C10                C4   4.68582      Neuron\n",
       "1S#GGTTTAATCCAGGTTG-1                C9                C4   4.67242      Neuron\n",
       "...                                 ...               ...       ...         ...\n",
       "5M#ATGTCCACAACCCTAA-1               C13               C13   3.60152       Oligo\n",
       "5M#TCCAGGATCCTGGTGA-1               C13               C13   3.60141       Oligo\n",
       "5M#CGTGACATCTTACTCG-1               C13               C13   3.60130       Oligo\n",
       "5M#GGTGTGACATTAGCCA-1               C11                C6   3.60054      Neuron\n",
       "5M#ATGCGATTCACAAGCT-1               C13               C13   3.60021       Oligo\n",
       "                      cluster_rat_RNA2ATAC cluster_macaque_RNA2ATAC\n",
       "                               <character>              <character>\n",
       "1S#TTGTGCCTCCTGTTCA-1               D2-MSN                 D2.Shell\n",
       "1S#AAGTTTGTCACCATTT-1               D2-MSN                 D2.Shell\n",
       "1S#AGGTCCGGTATCTGGA-1               D1-MSN                 D1.Shell\n",
       "1S#GCCTATTGTGTGTCCC-1               D1-MSN                 D1.Shell\n",
       "1S#GGTTTAATCCAGGTTG-1            D1/D3-MSN                 D1.Shell\n",
       "...                                    ...                      ...\n",
       "5M#ATGTCCACAACCCTAA-1               Oligos                    Oligo\n",
       "5M#TCCAGGATCCTGGTGA-1               Oligos                    Oligo\n",
       "5M#CGTGACATCTTACTCG-1               Oligos                    Oligo\n",
       "5M#GGTGTGACATTAGCCA-1               D1-MSN                 D1.Shell\n",
       "5M#ATGCGATTCACAAGCT-1               Oligos                    Oligo\n",
       "                      ReadsInPeaks      FRIP\n",
       "                         <numeric> <numeric>\n",
       "1S#TTGTGCCTCCTGTTCA-1        28285  0.271496\n",
       "1S#AAGTTTGTCACCATTT-1        27058  0.276870\n",
       "1S#AGGTCCGGTATCTGGA-1        25959  0.266739\n",
       "1S#GCCTATTGTGTGTCCC-1        27128  0.279699\n",
       "1S#GGTTTAATCCAGGTTG-1        25750  0.273820\n",
       "...                            ...       ...\n",
       "5M#ATGTCCACAACCCTAA-1         3182  0.398348\n",
       "5M#TCCAGGATCCTGGTGA-1         2319  0.291332\n",
       "5M#CGTGACATCTTACTCG-1         2139  0.268180\n",
       "5M#GGTGTGACATTAGCCA-1         2124  0.266499\n",
       "5M#ATGCGATTCACAAGCT-1         3043  0.382190"
      ]
     },
     "metadata": {},
     "output_type": "display_data"
    }
   ],
   "source": [
    "getCellColData(projRat)"
   ]
  },
  {
   "cell_type": "code",
   "execution_count": 24,
   "id": "bba8896c",
   "metadata": {},
   "outputs": [
    {
     "name": "stderr",
     "output_type": "stream",
     "text": [
      "ArchR logging to : ArchRLogs/ArchR-plotEmbedding-1d7db368aaf94-Date-2023-11-11_Time-21-59-14.log\n",
      "If there is an issue, please report to github with logFile!\n",
      "\n",
      "Getting UMAP Embedding\n",
      "\n",
      "ColorBy = cellColData\n",
      "\n",
      "Plotting Embedding\n",
      "\n",
      "1 \n",
      "WARNING: Error found with Cairo installation. Continuing without rasterization.\n",
      "\n",
      "\n",
      "\n",
      "ArchR logging successful to : ArchRLogs/ArchR-plotEmbedding-1d7db368aaf94-Date-2023-11-11_Time-21-59-14.log\n",
      "\n"
     ]
    },
    {
     "data": {
      "text/html": [
       "<strong>png:</strong> 2"
      ],
      "text/latex": [
       "\\textbf{png:} 2"
      ],
      "text/markdown": [
       "**png:** 2"
      ],
      "text/plain": [
       "png \n",
       "  2 "
      ]
     },
     "metadata": {},
     "output_type": "display_data"
    }
   ],
   "source": [
    "## make UMAP plots\n",
    "#p1 <- plotEmbedding(ArchRProj = projRat, colorBy = \"cellColData\", \n",
    "                    #name = \"Sire\", embedding = \"UMAPH200_ATAC\")\n",
    "\n",
    "pdf(\"/projects/pfenninggroup/singleCell/Pierce_transgen_rat_multiome/figures/exploratory/ldsc_rat_snATAC/plots/snATAC_labeled_UMAP.pdf\",width = 10, height = 8)\n",
    "p2 <- plotEmbedding(ArchRProj = projRat, colorBy = \"cellColData\", \n",
    "                    name = \"cluster_rat_RNA2ATAC\", embedding = \"UMAPH200_ATAC\")\n",
    "# Add a title to the plot\n",
    "p2 <- p2 + ggtitle(\"Cell Type Annotation UMAP for snATAC-seq\") + \n",
    "          theme(plot.title = element_text(hjust = 0.5)) # Center the title\n",
    "print(p2)\n",
    "dev.off()\n",
    "\n",
    "\n",
    "#ggAlignPlots(p1, p2,  type = \"h\")"
   ]
  },
  {
   "cell_type": "code",
   "execution_count": null,
   "id": "bd603512",
   "metadata": {},
   "outputs": [],
   "source": []
  }
 ],
 "metadata": {
  "kernelspec": {
   "display_name": "R",
   "language": "R",
   "name": "ir"
  },
  "language_info": {
   "codemirror_mode": "r",
   "file_extension": ".r",
   "mimetype": "text/x-r-source",
   "name": "R",
   "pygments_lexer": "r",
   "version": "4.2.3"
  }
 },
 "nbformat": 4,
 "nbformat_minor": 5
}
