{
 "cells": [
  {
   "cell_type": "code",
   "execution_count": 1,
   "id": "3fe2909a",
   "metadata": {},
   "outputs": [],
   "source": [
    "suppressMessages(library(ArchR))\n",
    "ss <- function(x, pattern, slot = 1, ...) { sapply(strsplit(x = x, split = pattern, ...), '[', slot) }\n",
    "options(stringsAsFactors = F)\n",
    "options(repr.plot.width=11, repr.plot.height=8.5)\n"
   ]
  },
  {
   "cell_type": "code",
   "execution_count": 2,
   "id": "2e2613b2",
   "metadata": {},
   "outputs": [
    {
     "name": "stderr",
     "output_type": "stream",
     "text": [
      "Setting default number of Parallel threads to 5.\n",
      "\n"
     ]
    }
   ],
   "source": [
    "##################################\n",
    "### set Arrow File parameters ####\n",
    "addArchRThreads(threads = 5)\n",
    "\n",
    "##################################\n",
    "### load rheMac10 ArchR genome ###\n",
    "GENOMEDIR='/home/bnphan/resources/genomes/rn7'\n",
    "load(file.path(GENOMEDIR,'rn7_liftoff_mm10NcbiRefSeq_ArchR_annotations.rda'))"
   ]
  },
  {
   "cell_type": "code",
   "execution_count": 3,
   "id": "45e36597",
   "metadata": {},
   "outputs": [
    {
     "name": "stderr",
     "output_type": "stream",
     "text": [
      "Successfully loaded ArchRProject!\n",
      "\n",
      "\n",
      "                                                   / |\n",
      "                                                 /    \\\n",
      "            .                                  /      |.\n",
      "            \\\\\\                              /        |.\n",
      "              \\\\\\                          /           `|.\n",
      "                \\\\\\                      /              |.\n",
      "                  \\                    /                |\\\n",
      "                  \\\\#####\\           /                  ||\n",
      "                ==###########>      /                   ||\n",
      "                 \\\\##==......\\    /                     ||\n",
      "            ______ =       =|__ /__                     ||      \\\\\\\n",
      "        ,--' ,----`-,__ ___/'  --,-`-===================##========>\n",
      "       \\               '        ##_______ _____ ,--,__,=##,__   ///\n",
      "        ,    __==    ___,-,__,--'#'  ==='      `-'    | ##,-/\n",
      "        -,____,---'       \\\\####\\\\________________,--\\\\_##,/\n",
      "           ___      .______        ______  __    __  .______      \n",
      "          /   \\     |   _  \\      /      ||  |  |  | |   _  \\     \n",
      "         /  ^  \\    |  |_)  |    |  ,----'|  |__|  | |  |_)  |    \n",
      "        /  /_\\  \\   |      /     |  |     |   __   | |      /     \n",
      "       /  _____  \\  |  |\\  \\\\___ |  `----.|  |  |  | |  |\\  \\\\___.\n",
      "      /__/     \\__\\ | _| `._____| \\______||__|  |__| | _| `._____|\n",
      "    \n",
      "\n"
     ]
    }
   ],
   "source": [
    "PROJDIR='/projects/pfenninggroup/singleCell/Pierce_transgen_rat_multiome/data/tidy_data/ArchRProjects'\n",
    "ARCHDIR=file.path(PROJDIR,'Rat_Transgen_NAc_scATAC')\n",
    "proj = loadArchRProject(ARCHDIR)\n"
   ]
  },
  {
   "cell_type": "code",
   "execution_count": 4,
   "id": "c330e7fe",
   "metadata": {},
   "outputs": [
    {
     "data": {
      "text/plain": [
       "\n",
       "      Astrocytes       D1-ICj-MSN           D1-MSN     D1-NUDAP-MSN \n",
       "             909              433             2195              508 \n",
       "D1/D2-Hybrid-MSN        D1/D3-MSN           D2-MSN        Microglia \n",
       "             613              906             2509              529 \n",
       "          Oligos       Oligos_Pre        Pvalb-INT          Sst-INT \n",
       "            1450              955               79              104 "
      ]
     },
     "metadata": {},
     "output_type": "display_data"
    }
   ],
   "source": [
    "table(proj$cluster_rat)\n"
   ]
  },
  {
   "cell_type": "code",
   "execution_count": 5,
   "id": "6d46d0d4",
   "metadata": {},
   "outputs": [
    {
     "data": {
      "text/plain": [
       "\n",
       "       Astro D1.D2.Hybrid       D1.ICj     D1.NUDAP     D1.Shell     D2.Shell \n",
       "         909          613          433          508         3101         2509 \n",
       "Interneurons    Microglia        Oligo          OPC \n",
       "         183          529         1450          955 "
      ]
     },
     "metadata": {},
     "output_type": "display_data"
    }
   ],
   "source": [
    "table(proj$cluster_macaque)"
   ]
  },
  {
   "cell_type": "code",
   "execution_count": 6,
   "id": "70fcf7ac",
   "metadata": {},
   "outputs": [
    {
     "data": {
      "text/plain": [
       "\n",
       "   1S    2M    3C    4S    5M \n",
       "13318  6604  6399  5930  6533 "
      ]
     },
     "metadata": {},
     "output_type": "display_data"
    }
   ],
   "source": [
    "table(proj$Sample)\n"
   ]
  },
  {
   "cell_type": "code",
   "execution_count": 7,
   "id": "24fe0618",
   "metadata": {},
   "outputs": [
    {
     "ename": "ERROR",
     "evalue": "Error in loadArchRProject(ARCHDIR): Could not find previously saved ArchRProject in the path specified!\n",
     "output_type": "error",
     "traceback": [
      "Error in loadArchRProject(ARCHDIR): Could not find previously saved ArchRProject in the path specified!\nTraceback:\n",
      "1. loadArchRProject(ARCHDIR)",
      "2. stop(\"Could not find previously saved ArchRProject in the path specified!\")"
     ]
    }
   ],
   "source": [
    "PROJDIR='/projects/pfenninggroup/singleCell/Pierce_transgen_rat_multiome/data/tidy_data/ArchRProjects'\n",
    "ARCHDIR=file.path(PROJDIR,'Rat_Transgen_NAc_scRNA')\n",
    "proj = loadArchRProject(ARCHDIR)\n"
   ]
  },
  {
   "cell_type": "code",
   "execution_count": null,
   "id": "5bfde6e2",
   "metadata": {},
   "outputs": [],
   "source": []
  }
 ],
 "metadata": {
  "kernelspec": {
   "display_name": "R",
   "language": "R",
   "name": "ir"
  },
  "language_info": {
   "codemirror_mode": "r",
   "file_extension": ".r",
   "mimetype": "text/x-r-source",
   "name": "R",
   "pygments_lexer": "r",
   "version": "4.1.3"
  }
 },
 "nbformat": 4,
 "nbformat_minor": 5
}
