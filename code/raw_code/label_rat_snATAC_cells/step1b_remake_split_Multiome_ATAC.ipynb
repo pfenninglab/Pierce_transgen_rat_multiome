{
 "cells": [
  {
   "cell_type": "code",
   "execution_count": 1,
   "metadata": {},
   "outputs": [],
   "source": [
    "suppressMessages(library(ArchR))\n",
    "ss <- function(x, pattern, slot = 1, ...) { sapply(strsplit(x = x, split = pattern, ...), '[', slot) }\n",
    "options(stringsAsFactors = F)\n",
    "options(repr.plot.width=11, repr.plot.height=8.5)"
   ]
  },
  {
   "cell_type": "code",
   "execution_count": 2,
   "metadata": {
    "scrolled": true
   },
   "outputs": [
    {
     "name": "stderr",
     "output_type": "stream",
     "text": [
      "Setting default number of Parallel threads to 10.\n",
      "\n"
     ]
    }
   ],
   "source": [
    "##################################\n",
    "### set Arrow File parameters ####\n",
    "addArchRThreads(threads = 10)\n",
    "\n",
    "##################################\n",
    "### load rheMac10 ArchR genome ###\n",
    "GENOMEDIR='/home/bnphan/resources/genomes/rheMac10'\n",
    "load(file.path(GENOMEDIR,'rheMac10_liftoff_GRCh38.p13_ArchR_annotations.rda'))"
   ]
  },
  {
   "cell_type": "code",
   "execution_count": 3,
   "metadata": {},
   "outputs": [
    {
     "name": "stderr",
     "output_type": "stream",
     "text": [
      "Successfully loaded ArchRProject!\n",
      "\n",
      "\n",
      "                                                   / |\n",
      "                                                 /    \\\n",
      "            .                                  /      |.\n",
      "            \\\\\\                              /        |.\n",
      "              \\\\\\                          /           `|.\n",
      "                \\\\\\                      /              |.\n",
      "                  \\                    /                |\\\n",
      "                  \\\\#####\\           /                  ||\n",
      "                ==###########>      /                   ||\n",
      "                 \\\\##==......\\    /                     ||\n",
      "            ______ =       =|__ /__                     ||      \\\\\\\n",
      "        ,--' ,----`-,__ ___/'  --,-`-===================##========>\n",
      "       \\               '        ##_______ _____ ,--,__,=##,__   ///\n",
      "        ,    __==    ___,-,__,--'#'  ==='      `-'    | ##,-/\n",
      "        -,____,---'       \\\\####\\\\________________,--\\\\_##,/\n",
      "           ___      .______        ______  __    __  .______      \n",
      "          /   \\     |   _  \\      /      ||  |  |  | |   _  \\     \n",
      "         /  ^  \\    |  |_)  |    |  ,----'|  |__|  | |  |_)  |    \n",
      "        /  /_\\  \\   |      /     |  |     |   __   | |      /     \n",
      "       /  _____  \\  |  |\\  \\\\___ |  `----.|  |  |  | |  |\\  \\\\___.\n",
      "      /__/     \\__\\ | _| `._____| \\______||__|  |__| | _| `._____|\n",
      "    \n",
      "\n"
     ]
    }
   ],
   "source": [
    "PROJDIR='../../../data/tidy_data/ArchRProjects'\n",
    "ARCHDIR=file.path(PROJDIR,'ArchR_Multiome_DLPFC')\n",
    "proj = loadArchRProject(ARCHDIR)"
   ]
  },
  {
   "cell_type": "code",
   "execution_count": 4,
   "metadata": {
    "scrolled": false
   },
   "outputs": [
    {
     "data": {
      "text/plain": [
       "\n",
       "      EXC INH_LAMP5 INH_PVALB   INH_SST   INH_VIP \n",
       "     8267       575       895       889       565 "
      ]
     },
     "metadata": {},
     "output_type": "display_data"
    },
    {
     "name": "stderr",
     "output_type": "stream",
     "text": [
      "Dropping ImputeWeights Since You Are Subsetting Cells! ImputeWeights is a cell-x-cell Matrix!\n",
      "\n",
      "Copying ArchRProject to new outputDirectory : /projects/pfenninggroup/singleCell/Macaque_Multiome_DLPFC/data/tidy_data/ArchRProjects/ArchR_Multiome_DLPFC_neuron\n",
      "\n",
      "Copying Arrow Files...\n",
      "\n",
      "Getting ImputeWeights\n",
      "\n",
      "No imputeWeights found, returning NULL\n",
      "\n",
      "Copying Other Files...\n",
      "\n",
      "Copying Other Files (1 of 2): Embeddings\n",
      "\n",
      "Copying Other Files (2 of 2): IterativeLSI230_ATAC\n",
      "\n",
      "Saving ArchRProject...\n",
      "\n",
      "Loading ArchRProject...\n",
      "\n",
      "Successfully loaded ArchRProject!\n",
      "\n",
      "\n",
      "                                                   / |\n",
      "                                                 /    \\\n",
      "            .                                  /      |.\n",
      "            \\\\\\                              /        |.\n",
      "              \\\\\\                          /           `|.\n",
      "                \\\\\\                      /              |.\n",
      "                  \\                    /                |\\\n",
      "                  \\\\#####\\           /                  ||\n",
      "                ==###########>      /                   ||\n",
      "                 \\\\##==......\\    /                     ||\n",
      "            ______ =       =|__ /__                     ||      \\\\\\\n",
      "        ,--' ,----`-,__ ___/'  --,-`-===================##========>\n",
      "       \\               '        ##_______ _____ ,--,__,=##,__   ///\n",
      "        ,    __==    ___,-,__,--'#'  ==='      `-'    | ##,-/\n",
      "        -,____,---'       \\\\####\\\\________________,--\\\\_##,/\n",
      "           ___      .______        ______  __    __  .______      \n",
      "          /   \\     |   _  \\      /      ||  |  |  | |   _  \\     \n",
      "         /  ^  \\    |  |_)  |    |  ,----'|  |__|  | |  |_)  |    \n",
      "        /  /_\\  \\   |      /     |  |     |   __   | |      /     \n",
      "       /  _____  \\  |  |\\  \\\\___ |  `----.|  |  |  | |  |\\  \\\\___.\n",
      "      /__/     \\__\\ | _| `._____| \\______||__|  |__| | _| `._____|\n",
      "    \n",
      "\n"
     ]
    }
   ],
   "source": [
    "# drop the drop clusters, pull out the neuron cell types\n",
    "ARCHDIR2=file.path(PROJDIR,'ArchR_Multiome_DLPFC_neuron')\n",
    "neuronType = c( 'INH_LAMP5','INH_VIP', 'INH_SST', 'INH_PVALB', 'INH_PVALB','EXC')\n",
    "idxSample <- BiocGenerics::which(proj$Celltype1 %in% neuronType )\n",
    "table(proj$Celltype1[idxSample])\n",
    "cellsSample <- proj$cellNames[idxSample]\n",
    "\n",
    "proj2 = subsetArchRProject(\n",
    "  ArchRProj = proj, cells = cellsSample,\n",
    "  outputDirectory = ARCHDIR2, force = TRUE\n",
    ")"
   ]
  },
  {
   "cell_type": "code",
   "execution_count": 5,
   "metadata": {},
   "outputs": [
    {
     "data": {
      "text/plain": [
       "\n",
       "    Astro      Endo Microglia     Oligo       OPC \n",
       "     3232       803      1454      1643       930 "
      ]
     },
     "metadata": {},
     "output_type": "display_data"
    },
    {
     "name": "stderr",
     "output_type": "stream",
     "text": [
      "Dropping ImputeWeights Since You Are Subsetting Cells! ImputeWeights is a cell-x-cell Matrix!\n",
      "\n",
      "Copying ArchRProject to new outputDirectory : /projects/pfenninggroup/singleCell/Macaque_Multiome_DLPFC/data/tidy_data/ArchRProjects/ArchR_Multiome_DLPFC_glia\n",
      "\n",
      "Copying Arrow Files...\n",
      "\n",
      "Getting ImputeWeights\n",
      "\n",
      "No imputeWeights found, returning NULL\n",
      "\n",
      "Copying Other Files...\n",
      "\n",
      "Copying Other Files (1 of 2): Embeddings\n",
      "\n",
      "Copying Other Files (2 of 2): IterativeLSI230_ATAC\n",
      "\n",
      "Saving ArchRProject...\n",
      "\n",
      "Loading ArchRProject...\n",
      "\n",
      "Successfully loaded ArchRProject!\n",
      "\n",
      "\n",
      "                                                   / |\n",
      "                                                 /    \\\n",
      "            .                                  /      |.\n",
      "            \\\\\\                              /        |.\n",
      "              \\\\\\                          /           `|.\n",
      "                \\\\\\                      /              |.\n",
      "                  \\                    /                |\\\n",
      "                  \\\\#####\\           /                  ||\n",
      "                ==###########>      /                   ||\n",
      "                 \\\\##==......\\    /                     ||\n",
      "            ______ =       =|__ /__                     ||      \\\\\\\n",
      "        ,--' ,----`-,__ ___/'  --,-`-===================##========>\n",
      "       \\               '        ##_______ _____ ,--,__,=##,__   ///\n",
      "        ,    __==    ___,-,__,--'#'  ==='      `-'    | ##,-/\n",
      "        -,____,---'       \\\\####\\\\________________,--\\\\_##,/\n",
      "           ___      .______        ______  __    __  .______      \n",
      "          /   \\     |   _  \\      /      ||  |  |  | |   _  \\     \n",
      "         /  ^  \\    |  |_)  |    |  ,----'|  |__|  | |  |_)  |    \n",
      "        /  /_\\  \\   |      /     |  |     |   __   | |      /     \n",
      "       /  _____  \\  |  |\\  \\\\___ |  `----.|  |  |  | |  |\\  \\\\___.\n",
      "      /__/     \\__\\ | _| `._____| \\______||__|  |__| | _| `._____|\n",
      "    \n",
      "\n"
     ]
    }
   ],
   "source": [
    "# drop the drop clusters, pull out the glia cell types\n",
    "ARCHDIR2=file.path(PROJDIR,'ArchR_Multiome_DLPFC_glia')\n",
    "idxSample <- BiocGenerics::which(proj$Celltype1 %ni% c(neuronType, 'Drop'))\n",
    "table(proj$Celltype1[idxSample])\n",
    "cellsSample <- proj$cellNames[idxSample]\n",
    "\n",
    "proj2 = subsetArchRProject(\n",
    "  ArchRProj = proj,\n",
    "  cells = cellsSample,\n",
    "  outputDirectory = ARCHDIR2, force = TRUE\n",
    ")"
   ]
  },
  {
   "cell_type": "code",
   "execution_count": null,
   "metadata": {},
   "outputs": [],
   "source": []
  }
 ],
 "metadata": {
  "kernelspec": {
   "display_name": "R",
   "language": "R",
   "name": "ir"
  },
  "language_info": {
   "codemirror_mode": "r",
   "file_extension": ".r",
   "mimetype": "text/x-r-source",
   "name": "R",
   "pygments_lexer": "r",
   "version": "3.6.3"
  }
 },
 "nbformat": 4,
 "nbformat_minor": 4
}
