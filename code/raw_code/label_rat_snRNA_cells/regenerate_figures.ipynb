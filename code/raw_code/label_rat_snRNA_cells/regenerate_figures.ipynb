{
 "cells": [
  {
   "cell_type": "code",
   "execution_count": 1,
   "id": "b2995e0e",
   "metadata": {},
   "outputs": [
    {
     "name": "stderr",
     "output_type": "stream",
     "text": [
      "here() starts at /projects/pfenninggroup/singleCell/Pierce_transgen_rat_multiome\n",
      "\n",
      "── \u001b[1mAttaching core tidyverse packages\u001b[22m ──────────────────────── tidyverse 2.0.0 ──\n",
      "\u001b[32m✔\u001b[39m \u001b[34mdplyr    \u001b[39m 1.1.3     \u001b[32m✔\u001b[39m \u001b[34mreadr    \u001b[39m 2.1.4\n",
      "\u001b[32m✔\u001b[39m \u001b[34mforcats  \u001b[39m 1.0.0     \u001b[32m✔\u001b[39m \u001b[34mstringr  \u001b[39m 1.5.0\n",
      "\u001b[32m✔\u001b[39m \u001b[34mggplot2  \u001b[39m 3.4.4     \u001b[32m✔\u001b[39m \u001b[34mtibble   \u001b[39m 3.2.1\n",
      "\u001b[32m✔\u001b[39m \u001b[34mlubridate\u001b[39m 1.9.3     \u001b[32m✔\u001b[39m \u001b[34mtidyr    \u001b[39m 1.3.0\n",
      "\u001b[32m✔\u001b[39m \u001b[34mpurrr    \u001b[39m 1.0.2     \n",
      "── \u001b[1mConflicts\u001b[22m ────────────────────────────────────────── tidyverse_conflicts() ──\n",
      "\u001b[31m✖\u001b[39m \u001b[34mdplyr\u001b[39m::\u001b[32mfilter()\u001b[39m masks \u001b[34mstats\u001b[39m::filter()\n",
      "\u001b[31m✖\u001b[39m \u001b[34mdplyr\u001b[39m::\u001b[32mlag()\u001b[39m    masks \u001b[34mstats\u001b[39m::lag()\n",
      "\u001b[36mℹ\u001b[39m Use the conflicted package (\u001b[3m\u001b[34m<http://conflicted.r-lib.org/>\u001b[39m\u001b[23m) to force all conflicts to become errors\n",
      "Loading required package: SeuratObject\n",
      "\n",
      "Loading required package: sp\n",
      "\n",
      "\n",
      "Attaching package: ‘SeuratObject’\n",
      "\n",
      "\n",
      "The following object is masked from ‘package:base’:\n",
      "\n",
      "    intersect\n",
      "\n",
      "\n",
      "Registered S3 method overwritten by 'SeuratDisk':\n",
      "  method            from  \n",
      "  as.sparse.H5Group Seurat\n",
      "\n"
     ]
    }
   ],
   "source": [
    "## packages for data table processing \n",
    "library(here)\n",
    "library(tidyverse)\n",
    "\n",
    "## main Seurat package snRNA-seq pacakges\n",
    "library(Seurat)\n",
    "library(SeuratDisk)\n",
    "library(future)\n",
    "\n",
    "ss <- function(x, pattern, slot = 1, ...) { \n",
    "  sapply(strsplit(x = x, split = pattern, ...), '[', slot) }\n",
    "options(stringsAsFactors = F)\n",
    "options(repr.plot.width=11, repr.plot.height=8.5)"
   ]
  },
  {
   "cell_type": "code",
   "execution_count": 28,
   "id": "5c5af81d",
   "metadata": {},
   "outputs": [
    {
     "name": "stderr",
     "output_type": "stream",
     "text": [
      "Validating h5Seurat file\n",
      "\n",
      "Initializing MAGIC_RNA with data\n",
      "\n",
      "Adding miscellaneous information for MAGIC_RNA\n",
      "\n",
      "Initializing MAGIC_SCT with data\n",
      "\n",
      "Adding miscellaneous information for MAGIC_SCT\n",
      "\n",
      "Initializing RNA with data\n",
      "\n",
      "Adding counts for RNA\n",
      "\n",
      "Adding miscellaneous information for RNA\n",
      "\n",
      "Initializing SCT with data\n",
      "\n",
      "Adding counts for SCT\n",
      "\n",
      "Adding scale.data for SCT\n",
      "\n",
      "Adding variable feature information for SCT\n",
      "\n",
      "Adding miscellaneous information for SCT\n",
      "\n",
      "Adding reduction harmony\n",
      "\n",
      "Adding cell embeddings for harmony\n",
      "\n",
      "Adding feature loadings for harmony\n",
      "\n",
      "Adding projected loadings for harmony\n",
      "\n",
      "Adding miscellaneous information for harmony\n",
      "\n",
      "Adding reduction pca\n",
      "\n",
      "Adding cell embeddings for pca\n",
      "\n",
      "Adding feature loadings for pca\n",
      "\n",
      "Adding miscellaneous information for pca\n",
      "\n",
      "Adding reduction umap\n",
      "\n",
      "Adding cell embeddings for umap\n",
      "\n",
      "Adding miscellaneous information for umap\n",
      "\n",
      "Adding graph SCT_nn\n",
      "\n",
      "Adding graph SCT_snn\n",
      "\n",
      "Adding command information\n",
      "\n",
      "Adding cell-level metadata\n",
      "\n",
      "Adding miscellaneous information\n",
      "\n",
      "Adding tool-specific results\n",
      "\n"
     ]
    }
   ],
   "source": [
    "## read in the MSN dataset for label refinement\n",
    "save_subset_msn = here('data/tidy_data/Seurat_projects', \n",
    "                        \"Rat_transgen_multiomeRNA_refined_all_SeuratObj_N5.h5Seurat\")\n",
    "obj_msn = save_subset_msn %>% LoadH5Seurat()"
   ]
  },
  {
   "cell_type": "code",
   "execution_count": 21,
   "id": "8783e753",
   "metadata": {},
   "outputs": [],
   "source": [
    "library(ggplot2)\n"
   ]
  },
  {
   "cell_type": "code",
   "execution_count": 23,
   "id": "a6a00f73",
   "metadata": {},
   "outputs": [
    {
     "name": "stderr",
     "output_type": "stream",
     "text": [
      "Warning message in download.file(url, destfile, method, mode = \"wb\", ...):\n",
      "“downloaded length 2342912 != reported length 3275540”\n",
      "Warning message in download.file(url, destfile, method, mode = \"wb\", ...):\n",
      "“URL 'https://cran.r-project.org/src/contrib/patchwork_1.1.3.tar.gz': Timeout of 60 seconds was reached”\n"
     ]
    },
    {
     "name": "stdout",
     "output_type": "stream",
     "text": [
      "Error in download.file(url, destfile, method, mode = \"wb\", ...) : \n",
      "  download from 'https://cran.r-project.org/src/contrib/patchwork_1.1.3.tar.gz' failed\n"
     ]
    },
    {
     "name": "stderr",
     "output_type": "stream",
     "text": [
      "Warning message in download.packages(pkgs, destdir = tmpd, available = available, :\n",
      "“download of package ‘patchwork’ failed”\n"
     ]
    }
   ],
   "source": [
    "install.packages(\"patchwork\")"
   ]
  },
  {
   "cell_type": "code",
   "execution_count": 24,
   "id": "0892fadd",
   "metadata": {},
   "outputs": [],
   "source": [
    "library(patchwork)"
   ]
  },
  {
   "cell_type": "code",
   "execution_count": 30,
   "id": "0b525b78",
   "metadata": {},
   "outputs": [
    {
     "data": {
      "text/html": [
       "<strong>png:</strong> 2"
      ],
      "text/latex": [
       "\\textbf{png:} 2"
      ],
      "text/markdown": [
       "**png:** 2"
      ],
      "text/plain": [
       "png \n",
       "  2 "
      ]
     },
     "metadata": {},
     "output_type": "display_data"
    }
   ],
   "source": [
    "## visualize the refined cluster assignments\n",
    "#table(obj_msn$cluster_rat)\n",
    "pdf(\"/projects/pfenninggroup/singleCell/Pierce_transgen_rat_multiome/figures/exploratory/label_rat_snRNA_cells/plots/snRNA_labeled_UMAP.pdf\",width = 10, height = 8)\n",
    "plot <- DimPlot(obj_msn, dims = c(1, 2),reduction = \"umap\", group.by = \"cluster_rat\", label = TRUE, label.size = 6, \n",
    "                cols = ArchR::paletteDiscrete(unique(obj_msn$cluster_rat)))\n",
    "# Create a title plot\n",
    "title_plot <- ggplot() + \n",
    "              labs(title = \"Cell Type Annotation UMAP for snRNA-seq\") +\n",
    "              theme_void() + \n",
    "              theme(plot.margin = margin(t = -1, b = -1, unit = \"line\"),  # Negative margins to reduce space\n",
    "                    plot.title = element_text(hjust = 0.5, size = 20))\n",
    "\n",
    "# Combine the title plot with the DimPlot\n",
    "combined_plot <- title_plot / plot + \n",
    "                 plot_layout(heights = c(0.1, 1))  # Adjust the relative heights\n",
    "\n",
    "\n",
    "print(combined_plot)\n",
    "dev.off()"
   ]
  },
  {
   "cell_type": "code",
   "execution_count": null,
   "id": "ef55e635",
   "metadata": {},
   "outputs": [],
   "source": []
  }
 ],
 "metadata": {
  "kernelspec": {
   "display_name": "R",
   "language": "R",
   "name": "ir"
  },
  "language_info": {
   "codemirror_mode": "r",
   "file_extension": ".r",
   "mimetype": "text/x-r-source",
   "name": "R",
   "pygments_lexer": "r",
   "version": "4.2.3"
  }
 },
 "nbformat": 4,
 "nbformat_minor": 5
}
